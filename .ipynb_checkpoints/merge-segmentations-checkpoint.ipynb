{
 "cells": [
  {
   "cell_type": "markdown",
   "metadata": {},
   "source": [
    "## Setup imports "
   ]
  },
  {
   "cell_type": "code",
   "execution_count": 20,
   "metadata": {},
   "outputs": [],
   "source": [
    "import os\n",
    "import nibabel as nib\n",
    "import glob\n",
    "import monai\n",
    "import matplotlib.pyplot as plt\n",
    "import sys\n",
    "import numpy as np"
   ]
  },
  {
   "cell_type": "markdown",
   "metadata": {},
   "source": [
    "## Define image data directory and filenames  "
   ]
  },
  {
   "cell_type": "code",
   "execution_count": 21,
   "metadata": {},
   "outputs": [],
   "source": [
    "root_dir ='/path/oasis/data'\n",
    "\n",
    "file_name_img = 'FLAIR_1.nii.gz'\n",
    "file_name_seg = 'brain_oasis_t1_seg.nii.gz' # segmentation of co-registered brain images generated using FAST algorithm\n",
    "file_name_lesion_seg = 'segmentation_1.nii.gz'# MS lesion segmnetation map, use both original(segmentation_1.nii.gz) and manipulated (lesion_seg_oasis_bl.nii.gz) versions in separate iterations\n",
    "all_exams = os.listdir(root_dir)"
   ]
  },
  {
   "cell_type": "markdown",
   "metadata": {},
   "source": [
    "## Combine lesion segmentaions and brain segmentation\n"
   ]
  },
  {
   "cell_type": "code",
   "execution_count": null,
   "metadata": {
    "scrolled": true
   },
   "outputs": [],
   "source": [
    "for pair in all_exams:\n",
    "    pair_path = os.path.join(root_dir,pair)\n",
    "    print(pair_path)\n",
    "    atlas_path = os.path.join(pair_path, file_name_seg)\n",
    "    lesion_path = os.path.join(pair_path, file_name_lesion_seg)\n",
    "    atlas = nib.load(atlas_path)\n",
    "    atlas_data = atlas.get_fdata()\n",
    "    lesion = nib.load(lesion_path)\n",
    "    lesion_data = lesion.get_fdata()\n",
    "    try:\n",
    "        complete_seg = atlas_data + lesion_data*5\n",
    "    except ValueError:\n",
    "        print('Incompatible shapes', pair_path, lesion_data.shape, atlas_data.shape)\n",
    "        pass\n",
    "    complete_seg[complete_seg >= 5] = 5  # threshold\n",
    "    header = atlas.header.copy()\n",
    "    complete_seg_nifti = nib.Nifti1Image(complete_seg,None, header=header)\n",
    "    nib.save(complete_seg_nifti, os.path.join(pair_path,'brain_lesion_oasis_follow_up.nii.gz')) # change filename for second iteration using the manipulated version of the brain segmentation map"
   ]
  }
 ],
 "metadata": {
  "kernelspec": {
   "display_name": "Python 3",
   "language": "python",
   "name": "python3"
  },
  "language_info": {
   "codemirror_mode": {
    "name": "ipython",
    "version": 3
   },
   "file_extension": ".py",
   "mimetype": "text/x-python",
   "name": "python",
   "nbconvert_exporter": "python",
   "pygments_lexer": "ipython3",
   "version": "3.7.11"
  }
 },
 "nbformat": 4,
 "nbformat_minor": 4
}
