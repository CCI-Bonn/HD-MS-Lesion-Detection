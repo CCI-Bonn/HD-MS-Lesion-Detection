{
 "cells": [
  {
   "cell_type": "markdown",
   "metadata": {},
   "source": [
    "## Setup imports "
   ]
  },
  {
   "cell_type": "code",
   "execution_count": null,
   "metadata": {},
   "outputs": [],
   "source": [
    "import os\n",
    "import glob\n",
    "import nibabel as nib\n",
    "import ants\n",
    "import matplotlib.pyplot as plt\n"
   ]
  },
  {
   "cell_type": "markdown",
   "metadata": {},
   "source": [
    "## Define image data directory "
   ]
  },
  {
   "cell_type": "code",
   "execution_count": null,
   "metadata": {},
   "outputs": [],
   "source": [
    "data_dir ='/path/oasis/data/'"
   ]
  },
  {
   "cell_type": "markdown",
   "metadata": {},
   "source": [
    "##  Image registration "
   ]
  },
  {
   "cell_type": "code",
   "execution_count": null,
   "metadata": {
    "scrolled": true
   },
   "outputs": [],
   "source": [
    "for exam in sorted(os.listdir(data_dir)):\n",
    "    if 'T1_bet_SyN.nii.gz' not in os.listdir(os.path.join(data_dir,exam)):\n",
    "        fixed_path = os.path.join(data_dir,exam+'/T1_1.nii.gz') # Baseline T1 image copied from in-house dataset\n",
    "        moving_path= os.path.join(data_dir,exam+'/T1_bet.nii.gz') # T1 image from OASIS dataset\n",
    "        fixed = ants.image_read(fixed_path)\n",
    "        moving= ants.image_read(moving_path)\n",
    "        mytx = ants.registration(fixed=fixed , moving=moving, type_of_transform='SyN',verbose=True)\n",
    "        warped_moving = mytx['warpedmovout']\n",
    "        tf_img_path = os.path.join(data_dir, exam+'/T1_oasis_reg.nii.gz') \n",
    "        ants.image_write(warped_moving, tf_img_path, ri=False)\n",
    "        print(exam)"
   ]
  }
 ],
 "metadata": {
  "kernelspec": {
   "display_name": "Python 3",
   "language": "python",
   "name": "python3"
  },
  "language_info": {
   "codemirror_mode": {
    "name": "ipython",
    "version": 3
   },
   "file_extension": ".py",
   "mimetype": "text/x-python",
   "name": "python",
   "nbconvert_exporter": "python",
   "pygments_lexer": "ipython3",
   "version": "3.7.11"
  }
 },
 "nbformat": 4,
 "nbformat_minor": 4
}
